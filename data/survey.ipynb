{
 "cells": [
  {
   "cell_type": "code",
   "execution_count": 1,
   "metadata": {},
   "outputs": [
    {
     "name": "stderr",
     "output_type": "stream",
     "text": [
      "/home/irfinal/miniconda3/envs/torch/lib/python3.9/site-packages/tqdm/auto.py:22: TqdmWarning: IProgress not found. Please update jupyter and ipywidgets. See https://ipywidgets.readthedocs.io/en/stable/user_install.html\n",
      "  from .autonotebook import tqdm as notebook_tqdm\n"
     ]
    }
   ],
   "source": [
    "import torch\n",
    "from transformers import BertTokenizerFast\n",
    "import pandas as pd\n",
    "tok = BertTokenizerFast.from_pretrained('bert-base-cased')"
   ]
  },
  {
   "cell_type": "code",
   "execution_count": 2,
   "metadata": {},
   "outputs": [],
   "source": [
    "train_df = pd.read_csv('total.csv')\n",
    "test_df = pd.read_csv('test.csv')"
   ]
  },
  {
   "cell_type": "code",
   "execution_count": 3,
   "metadata": {},
   "outputs": [
    {
     "data": {
      "text/html": [
       "<div>\n",
       "<style scoped>\n",
       "    .dataframe tbody tr th:only-of-type {\n",
       "        vertical-align: middle;\n",
       "    }\n",
       "\n",
       "    .dataframe tbody tr th {\n",
       "        vertical-align: top;\n",
       "    }\n",
       "\n",
       "    .dataframe thead th {\n",
       "        text-align: right;\n",
       "    }\n",
       "</style>\n",
       "<table border=\"1\" class=\"dataframe\">\n",
       "  <thead>\n",
       "    <tr style=\"text-align: right;\">\n",
       "      <th></th>\n",
       "      <th>id</th>\n",
       "      <th>q</th>\n",
       "      <th>r</th>\n",
       "      <th>s</th>\n",
       "      <th>q'</th>\n",
       "      <th>r'</th>\n",
       "      <th>Unnamed: 6</th>\n",
       "      <th>total no.: 7987</th>\n",
       "    </tr>\n",
       "  </thead>\n",
       "  <tbody>\n",
       "    <tr>\n",
       "      <th>0</th>\n",
       "      <td>8</td>\n",
       "      <td>\"It can go both ways . We all doubt . It is wh...</td>\n",
       "      <td>\"True .\"</td>\n",
       "      <td>AGREE</td>\n",
       "      <td>\"It can go both ways . We all doubt . It is wh...</td>\n",
       "      <td>\"True .\"</td>\n",
       "      <td>NaN</td>\n",
       "      <td>NaN</td>\n",
       "    </tr>\n",
       "    <tr>\n",
       "      <th>1</th>\n",
       "      <td>8</td>\n",
       "      <td>\"It can go both ways . We all doubt . It is wh...</td>\n",
       "      <td>\"True .\"</td>\n",
       "      <td>AGREE</td>\n",
       "      <td>\"can go both ways . We all doubt . It is what ...</td>\n",
       "      <td>\"True\"</td>\n",
       "      <td>NaN</td>\n",
       "      <td>NaN</td>\n",
       "    </tr>\n",
       "    <tr>\n",
       "      <th>2</th>\n",
       "      <td>8</td>\n",
       "      <td>\"It can go both ways . We all doubt . It is wh...</td>\n",
       "      <td>\"True .\"</td>\n",
       "      <td>AGREE</td>\n",
       "      <td>\"It can go both ways . We all doubt . It is wh...</td>\n",
       "      <td>\"True\"</td>\n",
       "      <td>NaN</td>\n",
       "      <td>NaN</td>\n",
       "    </tr>\n",
       "    <tr>\n",
       "      <th>3</th>\n",
       "      <td>9</td>\n",
       "      <td>\"once again , you seem to support the killing ...</td>\n",
       "      <td>\"based on the idea that people are dispensible...</td>\n",
       "      <td>AGREE</td>\n",
       "      <td>\"seem to support the killing of certain people\"</td>\n",
       "      <td>\"based on the idea that people are dispensible...</td>\n",
       "      <td>NaN</td>\n",
       "      <td>NaN</td>\n",
       "    </tr>\n",
       "    <tr>\n",
       "      <th>4</th>\n",
       "      <td>9</td>\n",
       "      <td>\"once again , you seem to support the killing ...</td>\n",
       "      <td>\"based on the idea that people are dispensible...</td>\n",
       "      <td>AGREE</td>\n",
       "      <td>\"you seem to support the killing of certain pe...</td>\n",
       "      <td>\"based on the idea that people are dispensible\"</td>\n",
       "      <td>NaN</td>\n",
       "      <td>NaN</td>\n",
       "    </tr>\n",
       "    <tr>\n",
       "      <th>...</th>\n",
       "      <td>...</td>\n",
       "      <td>...</td>\n",
       "      <td>...</td>\n",
       "      <td>...</td>\n",
       "      <td>...</td>\n",
       "      <td>...</td>\n",
       "      <td>...</td>\n",
       "      <td>...</td>\n",
       "    </tr>\n",
       "    <tr>\n",
       "      <th>38341</th>\n",
       "      <td>10001</td>\n",
       "      <td>\"good thing this argument has never been done ...</td>\n",
       "      <td>\"And teen sex does n't , by the very nature of...</td>\n",
       "      <td>DISAGREE</td>\n",
       "      <td>\"You are much better off making theft legal an...</td>\n",
       "      <td>\"And teen sex does n't , by the very nature of...</td>\n",
       "      <td>NaN</td>\n",
       "      <td>NaN</td>\n",
       "    </tr>\n",
       "    <tr>\n",
       "      <th>38342</th>\n",
       "      <td>10002</td>\n",
       "      <td>\"I know one thing , anything that happens , po...</td>\n",
       "      <td>\"Was n't sinjin crowing about his plans to tak...</td>\n",
       "      <td>DISAGREE</td>\n",
       "      <td>\"I know one thing , anything that happens , po...</td>\n",
       "      <td>\"Was n't sinjin crowing about his plans to tak...</td>\n",
       "      <td>NaN</td>\n",
       "      <td>NaN</td>\n",
       "    </tr>\n",
       "    <tr>\n",
       "      <th>38343</th>\n",
       "      <td>10002</td>\n",
       "      <td>\"I know one thing , anything that happens , po...</td>\n",
       "      <td>\"Was n't sinjin crowing about his plans to tak...</td>\n",
       "      <td>DISAGREE</td>\n",
       "      <td>\"FBI Arrests Three Men in Terror Plot that Tar...</td>\n",
       "      <td>\"Was n't sinjin crowing about his plans to tak...</td>\n",
       "      <td>NaN</td>\n",
       "      <td>NaN</td>\n",
       "    </tr>\n",
       "    <tr>\n",
       "      <th>38344</th>\n",
       "      <td>10003</td>\n",
       "      <td>\"I enjoy Botany more than most things and I ha...</td>\n",
       "      <td>\"Hi Smallax , welcome to the forum . I did a s...</td>\n",
       "      <td>AGREE</td>\n",
       "      <td>\"I enjoy Botany more than most things and I ha...</td>\n",
       "      <td>\"Hi Smallax , welcome to the forum . I did a s...</td>\n",
       "      <td>NaN</td>\n",
       "      <td>NaN</td>\n",
       "    </tr>\n",
       "    <tr>\n",
       "      <th>38345</th>\n",
       "      <td>10003</td>\n",
       "      <td>\"I enjoy Botany more than most things and I ha...</td>\n",
       "      <td>\"Hi Smallax , welcome to the forum . I did a s...</td>\n",
       "      <td>AGREE</td>\n",
       "      <td>\"bringing in outside sun light through fiber o...</td>\n",
       "      <td>\"might give you an idea about costs and concep...</td>\n",
       "      <td>NaN</td>\n",
       "      <td>NaN</td>\n",
       "    </tr>\n",
       "  </tbody>\n",
       "</table>\n",
       "<p>38346 rows × 8 columns</p>\n",
       "</div>"
      ],
      "text/plain": [
       "          id                                                  q  \\\n",
       "0          8  \"It can go both ways . We all doubt . It is wh...   \n",
       "1          8  \"It can go both ways . We all doubt . It is wh...   \n",
       "2          8  \"It can go both ways . We all doubt . It is wh...   \n",
       "3          9  \"once again , you seem to support the killing ...   \n",
       "4          9  \"once again , you seem to support the killing ...   \n",
       "...      ...                                                ...   \n",
       "38341  10001  \"good thing this argument has never been done ...   \n",
       "38342  10002  \"I know one thing , anything that happens , po...   \n",
       "38343  10002  \"I know one thing , anything that happens , po...   \n",
       "38344  10003  \"I enjoy Botany more than most things and I ha...   \n",
       "38345  10003  \"I enjoy Botany more than most things and I ha...   \n",
       "\n",
       "                                                       r         s  \\\n",
       "0                                               \"True .\"     AGREE   \n",
       "1                                               \"True .\"     AGREE   \n",
       "2                                               \"True .\"     AGREE   \n",
       "3      \"based on the idea that people are dispensible...     AGREE   \n",
       "4      \"based on the idea that people are dispensible...     AGREE   \n",
       "...                                                  ...       ...   \n",
       "38341  \"And teen sex does n't , by the very nature of...  DISAGREE   \n",
       "38342  \"Was n't sinjin crowing about his plans to tak...  DISAGREE   \n",
       "38343  \"Was n't sinjin crowing about his plans to tak...  DISAGREE   \n",
       "38344  \"Hi Smallax , welcome to the forum . I did a s...     AGREE   \n",
       "38345  \"Hi Smallax , welcome to the forum . I did a s...     AGREE   \n",
       "\n",
       "                                                      q'  \\\n",
       "0      \"It can go both ways . We all doubt . It is wh...   \n",
       "1      \"can go both ways . We all doubt . It is what ...   \n",
       "2      \"It can go both ways . We all doubt . It is wh...   \n",
       "3        \"seem to support the killing of certain people\"   \n",
       "4      \"you seem to support the killing of certain pe...   \n",
       "...                                                  ...   \n",
       "38341  \"You are much better off making theft legal an...   \n",
       "38342  \"I know one thing , anything that happens , po...   \n",
       "38343  \"FBI Arrests Three Men in Terror Plot that Tar...   \n",
       "38344  \"I enjoy Botany more than most things and I ha...   \n",
       "38345  \"bringing in outside sun light through fiber o...   \n",
       "\n",
       "                                                      r'  Unnamed: 6  \\\n",
       "0                                               \"True .\"         NaN   \n",
       "1                                                 \"True\"         NaN   \n",
       "2                                                 \"True\"         NaN   \n",
       "3      \"based on the idea that people are dispensible...         NaN   \n",
       "4        \"based on the idea that people are dispensible\"         NaN   \n",
       "...                                                  ...         ...   \n",
       "38341  \"And teen sex does n't , by the very nature of...         NaN   \n",
       "38342  \"Was n't sinjin crowing about his plans to tak...         NaN   \n",
       "38343  \"Was n't sinjin crowing about his plans to tak...         NaN   \n",
       "38344  \"Hi Smallax , welcome to the forum . I did a s...         NaN   \n",
       "38345  \"might give you an idea about costs and concep...         NaN   \n",
       "\n",
       "       total no.: 7987  \n",
       "0                  NaN  \n",
       "1                  NaN  \n",
       "2                  NaN  \n",
       "3                  NaN  \n",
       "4                  NaN  \n",
       "...                ...  \n",
       "38341              NaN  \n",
       "38342              NaN  \n",
       "38343              NaN  \n",
       "38344              NaN  \n",
       "38345              NaN  \n",
       "\n",
       "[38346 rows x 8 columns]"
      ]
     },
     "execution_count": 3,
     "metadata": {},
     "output_type": "execute_result"
    }
   ],
   "source": [
    "train_df"
   ]
  },
  {
   "cell_type": "code",
   "execution_count": 13,
   "metadata": {},
   "outputs": [],
   "source": [
    "from collections import Counter\n",
    "from itertools import chain\n",
    "from typing import List\n",
    "from tqdm import tqdm\n",
    "def count_list(sents: List[str]):\n",
    "    result = [tok.tokenize(s) for s in tqdm(sents)]\n",
    "    return Counter(chain.from_iterable(result))\n",
    "\n",
    "test_r, test_q,  = count_list(test_df['r'].tolist()), count_list(test_df['q'].tolist())\n",
    "train_r, train_q,  = count_list(train_df['r'].tolist()), count_list(train_df['q'].tolist())\n",
    "train_r_, train_q_,  = count_list(train_df['r\\''].tolist()), count_list(train_df['q\\''].tolist())"
   ]
  },
  {
   "cell_type": "code",
   "execution_count": 21,
   "metadata": {},
   "outputs": [
    {
     "data": {
      "text/plain": [
       "458"
      ]
     },
     "execution_count": 21,
     "metadata": {},
     "output_type": "execute_result"
    }
   ],
   "source": [
    "topk = 500\n",
    "\n",
    "# pd.DataFrame(\n",
    "#     {'test_r': test_r.most_common(topk),\n",
    "#      'train_r': train_r.most_common(topk)\n",
    "#     }\n",
    "# )\n",
    "len(set([r[0] for r in train_r.most_common(topk)]) & set([r[0] for r in test_r.most_common(topk)]))\n",
    "\n",
    "# test_r.most_common(topk), train_r.most_common(topk)"
   ]
  },
  {
   "cell_type": "code",
   "execution_count": 23,
   "metadata": {},
   "outputs": [
    {
     "data": {
      "text/plain": [
       "array(['AGREE', 'DISAGREE'], dtype=object)"
      ]
     },
     "execution_count": 23,
     "metadata": {},
     "output_type": "execute_result"
    }
   ],
   "source": [
    "train_df.s.unique()"
   ]
  },
  {
   "cell_type": "code",
   "execution_count": null,
   "metadata": {},
   "outputs": [],
   "source": []
  }
 ],
 "metadata": {
  "kernelspec": {
   "display_name": "Python 3.9.15 ('torch')",
   "language": "python",
   "name": "python3"
  },
  "language_info": {
   "codemirror_mode": {
    "name": "ipython",
    "version": 3
   },
   "file_extension": ".py",
   "mimetype": "text/x-python",
   "name": "python",
   "nbconvert_exporter": "python",
   "pygments_lexer": "ipython3",
   "version": "3.9.15"
  },
  "orig_nbformat": 4,
  "vscode": {
   "interpreter": {
    "hash": "fce06c29d3b452542a997596feed3c3967afacce3abceb05c8dd5624fb63c65c"
   }
  }
 },
 "nbformat": 4,
 "nbformat_minor": 2
}
